{
  "nbformat": 4,
  "nbformat_minor": 0,
  "metadata": {
    "colab": {
      "provenance": [],
      "authorship_tag": "ABX9TyPEGa66livs5IKRS1BEvYqr",
      "include_colab_link": true
    },
    "kernelspec": {
      "name": "python3",
      "display_name": "Python 3"
    },
    "language_info": {
      "name": "python"
    }
  },
  "cells": [
    {
      "cell_type": "markdown",
      "metadata": {
        "id": "view-in-github",
        "colab_type": "text"
      },
      "source": [
        "<a href=\"https://colab.research.google.com/github/tku-chenjiakai/Introduction-to-Computers/blob/main/0511%E9%99%B3%E5%AE%B6%E5%87%B1.ipynb\" target=\"_parent\"><img src=\"https://colab.research.google.com/assets/colab-badge.svg\" alt=\"Open In Colab\"/></a>"
      ]
    },
    {
      "cell_type": "code",
      "execution_count": null,
      "metadata": {
        "colab": {
          "base_uri": "https://localhost:8080/"
        },
        "id": "6C1hhJIIXzdO",
        "outputId": "be15bfc5-457f-4127-822d-48f51b7d3f06"
      },
      "outputs": [
        {
          "name": "stdout",
          "output_type": "stream",
          "text": [
            "請輸入密碼:1234\n"
          ]
        }
      ],
      "source": [
        "password=int(input(\"請輸入密碼:\"))\n",
        "if password == 4567:\n",
        "  print(\"歡迎光臨\")"
      ]
    },
    {
      "cell_type": "code",
      "source": [
        "password=int(input(\"請輸入密碼:\"))\n",
        "if password == 4567:\n",
        "  print(\"歡迎光臨\")\n",
        "else:\n",
        "  print(\"密碼錯誤!\")"
      ],
      "metadata": {
        "colab": {
          "base_uri": "https://localhost:8080/"
        },
        "id": "uoAcXx1zZv_E",
        "outputId": "c7a60f22-e981-447d-b1b8-eda4874efb92"
      },
      "execution_count": null,
      "outputs": [
        {
          "output_type": "stream",
          "name": "stdout",
          "text": [
            "請輸入密碼:4567\n",
            "歡迎光臨\n"
          ]
        }
      ]
    },
    {
      "cell_type": "code",
      "source": [
        "number=int(input(\"請輸入正整數:\"))\n",
        "if (number%2) ==0:\n",
        "  print(\"{}為偶數!\".format(number))\n",
        "else:\n",
        "  print(\"{}為奇數!\".format(number))"
      ],
      "metadata": {
        "colab": {
          "base_uri": "https://localhost:8080/"
        },
        "id": "zddw_sePaOvx",
        "outputId": "81516344-77f8-4ec9-cbc3-6c56654326a9"
      },
      "execution_count": null,
      "outputs": [
        {
          "output_type": "stream",
          "name": "stdout",
          "text": [
            "請輸入正整數:551\n",
            "551為奇數!\n"
          ]
        }
      ]
    }
  ]
}